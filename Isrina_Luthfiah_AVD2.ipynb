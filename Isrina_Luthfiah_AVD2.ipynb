{
  "nbformat": 4,
  "nbformat_minor": 0,
  "metadata": {
    "colab": {
      "provenance": [],
      "authorship_tag": "ABX9TyNtPStTMA7PcBUQH3eB1vKf",
      "include_colab_link": true
    },
    "kernelspec": {
      "name": "python3",
      "display_name": "Python 3"
    },
    "language_info": {
      "name": "python"
    }
  },
  "cells": [
    {
      "cell_type": "markdown",
      "metadata": {
        "id": "view-in-github",
        "colab_type": "text"
      },
      "source": [
        "<a href=\"https://colab.research.google.com/github/rinaaluthfiah/-Praktikum-AVD/blob/main/Isrina_Luthfiah_AVD2.ipynb\" target=\"_parent\"><img src=\"https://colab.research.google.com/assets/colab-badge.svg\" alt=\"Open In Colab\"/></a>"
      ]
    },
    {
      "cell_type": "markdown",
      "source": [
        "# Praktikum Analitik dan Visualisasi Data\n",
        "\n",
        "**Nama  : Isrina Luthfiah**\n",
        "\n",
        "**Nim   : 2409116003**\n",
        "\n",
        "**Kelas : A'2024**\n",
        "\n",
        "**Tema  : Analysis of Trend  in Smart Agricultural Production**"
      ],
      "metadata": {
        "id": "ZvQNnzlCc9uI"
      }
    },
    {
      "cell_type": "markdown",
      "source": [
        "# Business Understanding"
      ],
      "metadata": {
        "id": "W9r4PnN2nRcb"
      }
    },
    {
      "cell_type": "markdown",
      "source": [
        "#Business Objective"
      ],
      "metadata": {
        "id": "QVfidlrYd69H"
      }
    },
    {
      "cell_type": "markdown",
      "source": [
        "Tujuan utama proyek ini adalah untuk memahami pola pertanian melalui penerapan Kecerdasan Buatan(AI) dengan mesin pengoptimalisasi produksi pertanian pintar. Meningkatnya kebutuhan pangan akibat pertumbuhan populasi penduduk yang semakin berkembang pesat, proyek ini berfokus untuk mengoptimalkan hasil panen dengan memanfaatkan data pertanian secara cerdas. Dengan melakukan analisis data lebih mendalam  akan membantu petani dalam mengidentifikasi kondisi tanah, pola cuaca, serta kebutuhan nutrisi tanaman ,sehingga memungkinkan rekomendasi  lebih akurat untuk  pemilihan jenis tanaman yang paling sesuai. Diharapkan dapat mendukung ketahanan pangan global dengan meningkatkan hasil pertanian secara berkelanjutan."
      ],
      "metadata": {
        "id": "f_69PBiqd9iS"
      }
    },
    {
      "cell_type": "markdown",
      "source": [
        "#Assess Situation"
      ],
      "metadata": {
        "id": "teqAXehAfpkZ"
      }
    },
    {
      "cell_type": "markdown",
      "source": [
        "Industri pertanian menghadapi tantangan besar seperti meningkatnya permintaan pangan akibat bertambahnya jumlah penduduk (populasi) ditengah ancaman perubahan iklim yang mengganggu hasil panen, serta  penggunaan lahan dan sumber daya alam dilakukan dengan lebih hemat dan bijak. Adanya pandemi global telah membuat rantai pasok pertanian mengalami kelemahan dan rentan terhadap gangguan. Dengan memanfaatkan ilmu data dan kecerdasan buatan, petani dapat memperoleh wawasan mendalam mengenai faktor-faktor lingkungan yang mempengaruhi pertumbuhan tanaman dan hasil panen, sehingga memungkinkan pengambilan keputusan yang lebih akurat dan berbasis data. Oleh karena itu, pengembangan sistem berbasis AI menciptakan rekomendasi pabrik yang optimal untuk meningkatkan produktivitas pertanian.\n",
        "\n"
      ],
      "metadata": {
        "id": "KE54sUyCfvWS"
      }
    },
    {
      "cell_type": "markdown",
      "source": [
        "#Data Mining Goals"
      ],
      "metadata": {
        "id": "-IOLJomLgCdh"
      }
    },
    {
      "cell_type": "markdown",
      "source": [
        "Proyek Smart Agricultural Production ini mengembangkan sistem prediksi berdasrkan data dengan merekomendasikan jenis tanaman yang paling sesuai berdasarkan berbagai faktor seperti nutrisi tanah, kondisi cuaca, dan kebutuhan air\n",
        "\n",
        "1️⃣ Mengidentifikasi pola hubungan antara unsur hara tanah   \n",
        "(Nitrogen, Fosfor, Kalium), suhu tanah, dan tingkat pH dengan kemampuan hasil panen.\n",
        "\n",
        "2️⃣ Mempelajari sifat tanah dan jenis tanaman yang saling berhubungan, sehigga bisa memberikan saran pemupukan yang paling tepat agar optimal.\n",
        "\n",
        "3️⃣ Menentukan atau mengklasifikasikan jenis tanaman yang paling cocok untuk kondisi tanah tertentu berdasarkan data yang telah dianalisis.\n",
        "\n",
        "4️⃣ Membuat sistem yang dapat memperkirakan hasil di masa depan yang dapat membantu petani dalam\n",
        "mengambil keputusan berbasis data, untuk meningkatkan hasil panen dan pemanfaatan lahan secara maksimal."
      ],
      "metadata": {
        "id": "1MvqGn-NgG5N"
      }
    },
    {
      "cell_type": "markdown",
      "source": [
        "#Project Plan"
      ],
      "metadata": {
        "id": "Daf5K_RrhQr4"
      }
    },
    {
      "cell_type": "markdown",
      "source": [
        "Project plan Smart Agricultural Production ini  dilakukan dalam beberapa tahap,  yaitu:\n",
        "\n",
        "(1.) Pengumpulan Data dan Eksplorasi Data Pertanian dari dataset yang tersedia\n",
        "\n",
        " ⤹ Tahap awal dimulai dengan mengumpulkan dataset yang berisi informasi mengenai unsur hara tanah seperti Nitrogen(N), Fosfor(F), Kalium(K), suhu tanah, tingkat pH, serta jenis tanaman yang dibudidayakan.\n",
        "\n",
        "(2.) Pembersihan dan Pemrosesan Data untuk memastikan kualitas data yang optimal\n",
        "\n",
        "⤹ Melakukan pembersihan data dengan menghapus duplikasi, menangani nilai yang hilang, dan memastikan konsisten dari data serta menyesuaikan format agar mudah dianalisis.\n",
        "\n",
        "(3.)  Pengembangan model untuk rekomendasi tanaman\n",
        "\n",
        "  - Menggunakan teknik analisis data seperti Decision Tree untuk bisa memprediksi hasil  panen\n",
        "\n",
        "  - Melatih model dengan data yang telah diproses, lalu diuji keakuratannya.\n",
        "\n",
        "  - Menentukan faktor terpenting yang dapat mempengaruhi hasil panen dengan metode pemilihan fitur.\n",
        "\n",
        "(4.)  Evaluasi Model\n",
        "\n",
        "⤹ Mengukur seberapa tepat model dengan menilai kinerja suatu sistem agar   performa model terbaik yang dipilih dan di uji tetap diandalkan dalam berbagai kondisi.\n",
        "\n",
        "\n",
        "(5.)  Implementasi untuk memastikan manfaat bagi petani\n",
        "\n",
        "⤹ Meberikan rekomendasi kepada petani mengenai  pemupukan dan tanaman yang cocok dengan kondisi tanah, mengembangkan sistem untuk prediksi hasil pertanian secara langsung dan menyediakan panduan bagi petani agar lebih mudah dalam aktivitas pertanian."
      ],
      "metadata": {
        "id": "z6Qys3TNh4i0"
      }
    }
  ]
}